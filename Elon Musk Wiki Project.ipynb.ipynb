{
 "cells": [
  {
   "cell_type": "code",
   "execution_count": 10,
   "id": "8fc16964",
   "metadata": {},
   "outputs": [
    {
     "name": "stdout",
     "output_type": "stream",
     "text": [
      "Enter a celebrity's name: Elon Musk\n",
      "Elon Musk was born on 1971-06-28 in Pretoria, Transvaal, South Africa and is  51 years old.\n"
     ]
    }
   ],
   "source": [
    "import requests\n",
    "from bs4 import BeautifulSoup\n",
    "\n",
    "# Prompt the user to enter a celebrity's name\n",
    "name = input(\"Enter a celebrity's name: \")\n",
    "\n",
    "# Construct the Wikipedia URL for the celebrity\n",
    "url = f\"https://en.wikipedia.org/wiki/{name.replace(' ', '_')}\"\n",
    "\n",
    "# Send a GET request to the URL and store the response\n",
    "response = requests.get(url)\n",
    "\n",
    "# Create a BeautifulSoup object to parse the HTML content\n",
    "soup = BeautifulSoup(response.content, \"html.parser\")\n",
    "\n",
    "# Find the infobox table for the celebrity\n",
    "infobox = soup.find(\"table\", {\"class\": \"infobox\"})\n",
    "\n",
    "# Find the rows in the infobox table\n",
    "rows = infobox.find_all(\"tr\")\n",
    "\n",
    "# Initialize variables to store the celebrity's birthday, place of birth, and age\n",
    "birthday = \"\"\n",
    "place_of_birth = \"\"\n",
    "age = \"\"\n",
    "\n",
    "# Loop through each row in the infobox table\n",
    "for row in rows:\n",
    "    # Find the th and td elements in the row\n",
    "    th = row.find(\"th\")\n",
    "    td = row.find(\"td\")\n",
    "    \n",
    "    # If the row contains the celebrity's birthday, place of birth, or age, store the value\n",
    "    if th and th.text.strip() == \"Born\":\n",
    "        birthday = td.find(\"span\", {\"class\": \"bday\"}).text\n",
    "        place_of_birth = td.find(\"div\", {\"class\": \"birthplace\"}).text.strip()\n",
    "        age = td.find(\"span\", {\"class\": \"noprint ForceAgeToShow\"}).text.strip(\"(age )\")\n",
    "        break\n",
    "\n",
    "# Print the celebrity's birthday, place of birth, and age\n",
    "print(f\"{name} was born on {birthday} in {place_of_birth} and is {age} years old.\")\n"
   ]
  }
 ],
 "metadata": {
  "kernelspec": {
   "display_name": "Python 3 (ipykernel)",
   "language": "python",
   "name": "python3"
  },
  "language_info": {
   "codemirror_mode": {
    "name": "ipython",
    "version": 3
   },
   "file_extension": ".py",
   "mimetype": "text/x-python",
   "name": "python",
   "nbconvert_exporter": "python",
   "pygments_lexer": "ipython3",
   "version": "3.10.9"
  }
 },
 "nbformat": 4,
 "nbformat_minor": 5
}
